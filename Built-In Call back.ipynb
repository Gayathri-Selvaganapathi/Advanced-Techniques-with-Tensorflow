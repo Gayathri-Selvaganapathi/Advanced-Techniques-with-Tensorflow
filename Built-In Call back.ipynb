{
 "cells": [
  {
   "cell_type": "code",
   "execution_count": 1,
   "metadata": {},
   "outputs": [
    {
     "name": "stdout",
     "output_type": "stream",
     "text": [
      "INFO:tensorflow:Enabling eager execution\n",
      "INFO:tensorflow:Enabling v2 tensorshape\n",
      "INFO:tensorflow:Enabling resource variables\n",
      "INFO:tensorflow:Enabling tensor equality\n",
      "INFO:tensorflow:Enabling control flow v2\n",
      "Version:  2.6.0-dev20210331\n"
     ]
    }
   ],
   "source": [
    "import tensorflow as tf\n",
    "import tensorflow_datasets as tfds\n",
    "import matplotlib.pyplot as plt\n",
    "import io\n",
    "from PIL import Image\n",
    "\n",
    "from tensorflow.keras.callbacks import TensorBoard, EarlyStopping, LearningRateScheduler, ModelCheckpoint, CSVLogger, ReduceLROnPlateau\n",
    "%load_ext tensorboard\n",
    "\n",
    "import os\n",
    "import matplotlib.pylab as plt\n",
    "import numpy as np\n",
    "import math\n",
    "import datetime\n",
    "import pandas as pd\n",
    "\n",
    "print(\"Version: \", tf.__version__)\n",
    "tf.get_logger().setLevel('INFO')"
   ]
  },
  {
   "cell_type": "code",
   "execution_count": 2,
   "metadata": {},
   "outputs": [
    {
     "name": "stdout",
     "output_type": "stream",
     "text": [
      "\u001b[1mDownloading and preparing dataset Unknown size (download: Unknown size, generated: Unknown size, total: Unknown size) to C:\\Users\\Gaya3selva\\tensorflow_datasets\\horses_or_humans\\3.0.0...\u001b[0m\n"
     ]
    },
    {
     "data": {
      "application/vnd.jupyter.widget-view+json": {
       "model_id": "b8fdbbd7bf8a4a468bf20f88174eb5e2",
       "version_major": 2,
       "version_minor": 0
      },
      "text/plain": [
       "HBox(children=(HTML(value='Dl Completed...'), FloatProgress(value=1.0, bar_style='info', layout=Layout(width='…"
      ]
     },
     "metadata": {},
     "output_type": "display_data"
    },
    {
     "data": {
      "application/vnd.jupyter.widget-view+json": {
       "model_id": "9ae7cee94cdc4effb50b2e05c24f5a67",
       "version_major": 2,
       "version_minor": 0
      },
      "text/plain": [
       "HBox(children=(HTML(value='Dl Size...'), FloatProgress(value=1.0, bar_style='info', layout=Layout(width='20px'…"
      ]
     },
     "metadata": {},
     "output_type": "display_data"
    },
    {
     "name": "stdout",
     "output_type": "stream",
     "text": [
      "\n",
      "\n",
      "\n",
      "\n"
     ]
    },
    {
     "data": {
      "application/vnd.jupyter.widget-view+json": {
       "model_id": "",
       "version_major": 2,
       "version_minor": 0
      },
      "text/plain": [
       "HBox(children=(HTML(value='Generating splits...'), FloatProgress(value=0.0, max=2.0), HTML(value='')))"
      ]
     },
     "metadata": {},
     "output_type": "display_data"
    },
    {
     "data": {
      "application/vnd.jupyter.widget-view+json": {
       "model_id": "",
       "version_major": 2,
       "version_minor": 0
      },
      "text/plain": [
       "HBox(children=(HTML(value='Generating train examples...'), FloatProgress(value=1.0, bar_style='info', layout=L…"
      ]
     },
     "metadata": {},
     "output_type": "display_data"
    },
    {
     "data": {
      "application/vnd.jupyter.widget-view+json": {
       "model_id": "",
       "version_major": 2,
       "version_minor": 0
      },
      "text/plain": [
       "HBox(children=(HTML(value='Shuffling horses_or_humans-train.tfrecord...'), FloatProgress(value=0.0, max=1027.0…"
      ]
     },
     "metadata": {},
     "output_type": "display_data"
    },
    {
     "data": {
      "application/vnd.jupyter.widget-view+json": {
       "model_id": "",
       "version_major": 2,
       "version_minor": 0
      },
      "text/plain": [
       "HBox(children=(HTML(value='Generating test examples...'), FloatProgress(value=1.0, bar_style='info', layout=La…"
      ]
     },
     "metadata": {},
     "output_type": "display_data"
    },
    {
     "data": {
      "application/vnd.jupyter.widget-view+json": {
       "model_id": "",
       "version_major": 2,
       "version_minor": 0
      },
      "text/plain": [
       "HBox(children=(HTML(value='Shuffling horses_or_humans-test.tfrecord...'), FloatProgress(value=0.0, max=256.0),…"
      ]
     },
     "metadata": {},
     "output_type": "display_data"
    },
    {
     "name": "stdout",
     "output_type": "stream",
     "text": [
      "\u001b[1mDataset horses_or_humans downloaded and prepared to C:\\Users\\Gaya3selva\\tensorflow_datasets\\horses_or_humans\\3.0.0. Subsequent calls will reuse this data.\u001b[0m\n"
     ]
    }
   ],
   "source": [
    "# Download and prepare the horses or humans dataset\n",
    "\n",
    "splits, info = tfds.load('horses_or_humans', as_supervised=True, with_info=True, split=['train[:80%]', 'train[80%:]', 'test'])\n",
    "\n",
    "(train_examples, validation_examples, test_examples) = splits\n",
    "\n",
    "num_examples = info.splits['train'].num_examples\n",
    "num_classes = info.features['label'].num_classes"
   ]
  },
  {
   "cell_type": "code",
   "execution_count": 3,
   "metadata": {},
   "outputs": [],
   "source": [
    "SIZE = 150 #@param {type:\"slider\", min:64, max:300, step:1}\n",
    "IMAGE_SIZE = (SIZE, SIZE)"
   ]
  },
  {
   "cell_type": "code",
   "execution_count": 4,
   "metadata": {},
   "outputs": [],
   "source": [
    "def format_image(image, label):\n",
    "  image = tf.image.resize(image, IMAGE_SIZE) / 255.0\n",
    "  return  image, label"
   ]
  },
  {
   "cell_type": "code",
   "execution_count": 5,
   "metadata": {},
   "outputs": [],
   "source": [
    "BATCH_SIZE = 32 #@param {type:\"integer\"}"
   ]
  },
  {
   "cell_type": "code",
   "execution_count": 7,
   "metadata": {},
   "outputs": [],
   "source": [
    "train_batches = train_examples.shuffle(num_examples // 4).map(format_image).batch(BATCH_SIZE).prefetch(1)\n",
    "validation_batches = validation_examples.map(format_image).batch(BATCH_SIZE).prefetch(1)\n",
    "test_batches = test_examples.map(format_image).batch(1)\n",
    "train_batches = train_examples.shuffle(num_examples // 4).map(format_image).batch(BATCH_SIZE).prefetch(1)\n",
    "validation_batches = validation_examples.map(format_image).batch(BATCH_SIZE).prefetch(1)\n",
    "test_batches = test_examples.map(format_image).batch(1)"
   ]
  },
  {
   "cell_type": "code",
   "execution_count": 8,
   "metadata": {},
   "outputs": [
    {
     "data": {
      "text/plain": [
       "TensorShape([32, 150, 150, 3])"
      ]
     },
     "execution_count": 8,
     "metadata": {},
     "output_type": "execute_result"
    }
   ],
   "source": [
    "for image_batch, label_batch in train_batches.take(1):\n",
    "  pass\n",
    "\n",
    "image_batch.shape"
   ]
  },
  {
   "cell_type": "code",
   "execution_count": 9,
   "metadata": {},
   "outputs": [],
   "source": [
    "def build_model(dense_units, input_shape=IMAGE_SIZE + (3,)):\n",
    "  model = tf.keras.models.Sequential([\n",
    "      tf.keras.layers.Conv2D(16, (3, 3), activation='relu', input_shape=input_shape),\n",
    "      tf.keras.layers.MaxPooling2D(2, 2),\n",
    "      tf.keras.layers.Conv2D(32, (3, 3), activation='relu'),\n",
    "      tf.keras.layers.MaxPooling2D(2, 2),\n",
    "      tf.keras.layers.Conv2D(64, (3, 3), activation='relu'),\n",
    "      tf.keras.layers.MaxPooling2D(2, 2),\n",
    "      tf.keras.layers.Flatten(),\n",
    "      tf.keras.layers.Dense(dense_units, activation='relu'),\n",
    "      tf.keras.layers.Dense(2, activation='softmax')\n",
    "  ])\n",
    "  return model"
   ]
  },
  {
   "cell_type": "code",
   "execution_count": 10,
   "metadata": {},
   "outputs": [
    {
     "name": "stderr",
     "output_type": "stream",
     "text": [
      "'rm' is not recognized as an internal or external command,\n",
      "operable program or batch file.\n"
     ]
    }
   ],
   "source": [
    "!rm -rf logs"
   ]
  },
  {
   "cell_type": "code",
   "execution_count": 11,
   "metadata": {},
   "outputs": [
    {
     "name": "stdout",
     "output_type": "stream",
     "text": [
      "Epoch 1/10\n",
      "26/26 [==============================] - 19s 635ms/step - loss: 0.6770 - accuracy: 0.5781 - val_loss: 0.6474 - val_accuracy: 0.6341\n",
      "Epoch 2/10\n",
      "26/26 [==============================] - 13s 482ms/step - loss: 0.6349 - accuracy: 0.6537 - val_loss: 0.6478 - val_accuracy: 0.5805\n",
      "Epoch 3/10\n",
      "26/26 [==============================] - 13s 484ms/step - loss: 0.6016 - accuracy: 0.6606 - val_loss: 0.7351 - val_accuracy: 0.5171\n",
      "Epoch 4/10\n",
      "26/26 [==============================] - 13s 479ms/step - loss: 0.6054 - accuracy: 0.6539 - val_loss: 0.5216 - val_accuracy: 0.7805\n",
      "Epoch 5/10\n",
      "26/26 [==============================] - 13s 487ms/step - loss: 0.5116 - accuracy: 0.7547 - val_loss: 0.5041 - val_accuracy: 0.7512\n",
      "Epoch 6/10\n",
      "26/26 [==============================] - 13s 508ms/step - loss: 0.4727 - accuracy: 0.7994 - val_loss: 0.4195 - val_accuracy: 0.8244\n",
      "Epoch 7/10\n",
      "26/26 [==============================] - 13s 502ms/step - loss: 0.4389 - accuracy: 0.7929 - val_loss: 0.4863 - val_accuracy: 0.7366\n",
      "Epoch 8/10\n",
      "26/26 [==============================] - 13s 499ms/step - loss: 0.3959 - accuracy: 0.8395 - val_loss: 0.3223 - val_accuracy: 0.8780\n",
      "Epoch 9/10\n",
      "26/26 [==============================] - 13s 484ms/step - loss: 0.2975 - accuracy: 0.8986 - val_loss: 0.6732 - val_accuracy: 0.6293\n",
      "Epoch 10/10\n",
      "26/26 [==============================] - 12s 458ms/step - loss: 0.3563 - accuracy: 0.8518 - val_loss: 0.2213 - val_accuracy: 0.9366\n"
     ]
    },
    {
     "data": {
      "text/plain": [
       "<tensorflow.python.keras.callbacks.History at 0x2a385f6c630>"
      ]
     },
     "execution_count": 11,
     "metadata": {},
     "output_type": "execute_result"
    }
   ],
   "source": [
    "model = build_model(dense_units=256)\n",
    "model.compile(\n",
    "    optimizer='sgd',\n",
    "    loss='sparse_categorical_crossentropy', \n",
    "    metrics=['accuracy'])\n",
    "  \n",
    "logdir = os.path.join(\"logs\", datetime.datetime.now().strftime(\"%Y%m%d-%H%M%S\"))\n",
    "tensorboard_callback = tf.keras.callbacks.TensorBoard(logdir)\n",
    "\n",
    "model.fit(train_batches, \n",
    "          epochs=10, \n",
    "          validation_data=validation_batches, \n",
    "          callbacks=[tensorboard_callback])"
   ]
  },
  {
   "cell_type": "code",
   "execution_count": 12,
   "metadata": {},
   "outputs": [
    {
     "data": {
      "text/plain": [
       "ERROR: Failed to launch TensorBoard (exited with 1).\n",
       "Contents of stderr:\n",
       "2021-04-12 18:52:51.434242: W tensorflow/stream_executor/platform/default/dso_loader.cc:60] Could not load dynamic library 'cudart64_110.dll'; dlerror: cudart64_110.dll not found\n",
       "2021-04-12 18:52:51.436357: I tensorflow/stream_executor/cuda/cudart_stub.cc:29] Ignore above cudart dlerror if you do not have a GPU set up on your machine.\n",
       "2021-04-12 18:52:51.504420: W .\\tensorflow/core/platform/env.h:647] Using modular file system for 'gs. Please switch to tensorflow-io (https://github.com/tensorflow/io) for file system support of 'gs'.\n",
       "2021-04-12 18:52:51.507277: W .\\tensorflow/core/platform/env.h:647] Using modular file system for 's3. Please switch to tensorflow-io (https://github.com/tensorflow/io) for file system support of 's3'.\n",
       "Traceback (most recent call last):\n",
       "  File \"c:\\users\\gaya3selva\\anaconda3\\lib\\runpy.py\", line 193, in _run_module_as_main\n",
       "    \"__main__\", mod_spec)\n",
       "  File \"c:\\users\\gaya3selva\\anaconda3\\lib\\runpy.py\", line 85, in _run_code\n",
       "    exec(code, run_globals)\n",
       "  File \"C:\\Users\\Gaya3selva\\Anaconda3\\Scripts\\tensorboard.exe\\__main__.py\", line 7, in <module>\n",
       "  File \"C:\\Users\\Gaya3selva\\AppData\\Roaming\\Python\\Python37\\site-packages\\tensorboard\\main.py\", line 46, in run_main\n",
       "    app.run(tensorboard.main, flags_parser=tensorboard.configure)\n",
       "  File \"c:\\users\\gaya3selva\\anaconda3\\lib\\site-packages\\absl\\app.py\", line 303, in run\n",
       "    _run_main(main, args)\n",
       "  File \"c:\\users\\gaya3selva\\anaconda3\\lib\\site-packages\\absl\\app.py\", line 251, in _run_main\n",
       "    sys.exit(main(argv))\n",
       "  File \"C:\\Users\\Gaya3selva\\AppData\\Roaming\\Python\\Python37\\site-packages\\tensorboard\\program.py\", line 276, in main\n",
       "    return runner(self.flags) or 0\n",
       "  File \"C:\\Users\\Gaya3selva\\AppData\\Roaming\\Python\\Python37\\site-packages\\tensorboard\\program.py\", line 292, in _run_serve_subcommand\n",
       "    server = self._make_server()\n",
       "  File \"C:\\Users\\Gaya3selva\\AppData\\Roaming\\Python\\Python37\\site-packages\\tensorboard\\program.py\", line 472, in _make_server\n",
       "    deprecated_multiplexer,\n",
       "  File \"C:\\Users\\Gaya3selva\\AppData\\Roaming\\Python\\Python37\\site-packages\\tensorboard\\backend\\application.py\", line 145, in TensorBoardWSGIApp\n",
       "    experimental_middlewares,\n",
       "  File \"C:\\Users\\Gaya3selva\\AppData\\Roaming\\Python\\Python37\\site-packages\\tensorboard\\backend\\application.py\", line 253, in __init__\n",
       "    \"Duplicate plugins for name %s\" % plugin.plugin_name\n",
       "ValueError: Duplicate plugins for name projector"
      ]
     },
     "metadata": {},
     "output_type": "display_data"
    }
   ],
   "source": [
    "%tensorboard --logdir logs"
   ]
  },
  {
   "cell_type": "code",
   "execution_count": 13,
   "metadata": {},
   "outputs": [
    {
     "name": "stdout",
     "output_type": "stream",
     "text": [
      "Epoch 1/5\n",
      "26/26 - 14s - loss: 0.6722 - accuracy: 0.5888 - val_loss: 0.6507 - val_accuracy: 0.6049\n",
      "\n",
      "Epoch 00001: saving model to weights.01-0.65.h5\n",
      "Epoch 2/5\n",
      "26/26 - 12s - loss: 0.6343 - accuracy: 0.6740 - val_loss: 0.6867 - val_accuracy: 0.4829\n",
      "\n",
      "Epoch 00002: saving model to weights.02-0.69.h5\n",
      "Epoch 3/5\n",
      "26/26 - 13s - loss: 0.5981 - accuracy: 0.7032 - val_loss: 0.5573 - val_accuracy: 0.8439\n",
      "\n",
      "Epoch 00003: saving model to weights.03-0.56.h5\n",
      "Epoch 4/5\n",
      "26/26 - 13s - loss: 0.5265 - accuracy: 0.7774 - val_loss: 0.5919 - val_accuracy: 0.6195\n",
      "\n",
      "Epoch 00004: saving model to weights.04-0.59.h5\n",
      "Epoch 5/5\n",
      "26/26 - 13s - loss: 0.4815 - accuracy: 0.7822 - val_loss: 0.6421 - val_accuracy: 0.5805\n",
      "\n",
      "Epoch 00005: saving model to weights.05-0.64.h5\n"
     ]
    },
    {
     "data": {
      "text/plain": [
       "<tensorflow.python.keras.callbacks.History at 0x2a3861a0828>"
      ]
     },
     "execution_count": 13,
     "metadata": {},
     "output_type": "execute_result"
    }
   ],
   "source": [
    "model = build_model(dense_units=256)\n",
    "model.compile(\n",
    "    optimizer='sgd',\n",
    "    loss='sparse_categorical_crossentropy', \n",
    "    metrics=['accuracy'])\n",
    "  \n",
    "model.fit(train_batches, \n",
    "          epochs=5, \n",
    "          validation_data=validation_batches, \n",
    "          verbose=2,\n",
    "          callbacks=[ModelCheckpoint('weights.{epoch:02d}-{val_loss:.2f}.h5', verbose=1),\n",
    "          ])"
   ]
  },
  {
   "cell_type": "code",
   "execution_count": 14,
   "metadata": {},
   "outputs": [
    {
     "name": "stdout",
     "output_type": "stream",
     "text": [
      "26/26 - 14s - loss: 0.6815 - accuracy: 0.5584 - val_loss: 0.6683 - val_accuracy: 0.5805\n",
      "\n",
      "Epoch 00001: saving model to saved_model\n",
      "INFO:tensorflow:Assets written to: saved_model\\assets\n"
     ]
    },
    {
     "name": "stderr",
     "output_type": "stream",
     "text": [
      "INFO:tensorflow:Assets written to: saved_model\\assets\n"
     ]
    },
    {
     "data": {
      "text/plain": [
       "<tensorflow.python.keras.callbacks.History at 0x2a3862b37b8>"
      ]
     },
     "execution_count": 14,
     "metadata": {},
     "output_type": "execute_result"
    }
   ],
   "source": [
    "model = build_model(dense_units=256)\n",
    "model.compile(\n",
    "    optimizer='sgd',\n",
    "    loss='sparse_categorical_crossentropy', \n",
    "    metrics=['accuracy'])\n",
    "  \n",
    "model.fit(train_batches, \n",
    "          epochs=1, \n",
    "          validation_data=validation_batches, \n",
    "          verbose=2,\n",
    "          callbacks=[ModelCheckpoint('saved_model', verbose=1)\n",
    "          ])"
   ]
  },
  {
   "cell_type": "code",
   "execution_count": 15,
   "metadata": {},
   "outputs": [
    {
     "name": "stdout",
     "output_type": "stream",
     "text": [
      "Epoch 1/2\n",
      "26/26 - 14s - loss: 0.6748 - accuracy: 0.5633 - val_loss: 0.6491 - val_accuracy: 0.7268\n",
      "\n",
      "Epoch 00001: saving model to model.h5\n",
      "Epoch 2/2\n",
      "26/26 - 14s - loss: 0.6263 - accuracy: 0.7178 - val_loss: 0.6126 - val_accuracy: 0.7463\n",
      "\n",
      "Epoch 00002: saving model to model.h5\n"
     ]
    },
    {
     "data": {
      "text/plain": [
       "<tensorflow.python.keras.callbacks.History at 0x2a38641ba90>"
      ]
     },
     "execution_count": 15,
     "metadata": {},
     "output_type": "execute_result"
    }
   ],
   "source": [
    "model = build_model(dense_units=256)\n",
    "model.compile(\n",
    "    optimizer='sgd',\n",
    "    loss='sparse_categorical_crossentropy', \n",
    "    metrics=['accuracy'])\n",
    "  \n",
    "model.fit(train_batches, \n",
    "          epochs=2, \n",
    "          validation_data=validation_batches, \n",
    "          verbose=2,\n",
    "          callbacks=[ModelCheckpoint('model.h5', verbose=1)\n",
    "          ])"
   ]
  },
  {
   "cell_type": "code",
   "execution_count": 16,
   "metadata": {},
   "outputs": [
    {
     "name": "stdout",
     "output_type": "stream",
     "text": [
      "Epoch 1/50\n",
      "26/26 - 14s - loss: 0.6739 - accuracy: 0.5487 - val_loss: 0.6804 - val_accuracy: 0.4341\n",
      "Epoch 2/50\n",
      "26/26 - 12s - loss: 0.6453 - accuracy: 0.6241 - val_loss: 0.6429 - val_accuracy: 0.6146\n",
      "Epoch 3/50\n",
      "26/26 - 13s - loss: 0.6027 - accuracy: 0.7311 - val_loss: 0.6415 - val_accuracy: 0.5366\n",
      "Epoch 4/50\n",
      "26/26 - 13s - loss: 0.5567 - accuracy: 0.7543 - val_loss: 0.5218 - val_accuracy: 0.7902\n",
      "Epoch 5/50\n",
      "26/26 - 13s - loss: 0.5078 - accuracy: 0.7762 - val_loss: 0.5626 - val_accuracy: 0.6634\n",
      "Epoch 6/50\n",
      "26/26 - 13s - loss: 0.4456 - accuracy: 0.8175 - val_loss: 0.4646 - val_accuracy: 0.7659\n",
      "Epoch 7/50\n",
      "26/26 - 12s - loss: 0.3827 - accuracy: 0.8601 - val_loss: 0.3968 - val_accuracy: 0.8585\n",
      "Epoch 8/50\n",
      "26/26 - 15s - loss: 0.3242 - accuracy: 0.8844 - val_loss: 0.2338 - val_accuracy: 0.9512\n",
      "Epoch 9/50\n",
      "26/26 - 12s - loss: 0.2385 - accuracy: 0.9355 - val_loss: 0.2706 - val_accuracy: 0.8976\n",
      "Epoch 10/50\n",
      "26/26 - 12s - loss: 0.1854 - accuracy: 0.9538 - val_loss: 0.1265 - val_accuracy: 0.9854\n",
      "Epoch 11/50\n",
      "26/26 - 12s - loss: 0.1508 - accuracy: 0.9574 - val_loss: 0.1099 - val_accuracy: 0.9805\n",
      "Epoch 12/50\n",
      "26/26 - 12s - loss: 0.1234 - accuracy: 0.9672 - val_loss: 0.0877 - val_accuracy: 0.9854\n",
      "Epoch 13/50\n",
      "26/26 - 11s - loss: 0.0944 - accuracy: 0.9818 - val_loss: 0.0737 - val_accuracy: 0.9854\n",
      "Epoch 14/50\n",
      "26/26 - 12s - loss: 0.0864 - accuracy: 0.9805 - val_loss: 0.0666 - val_accuracy: 0.9902\n",
      "Epoch 15/50\n",
      "26/26 - 12s - loss: 0.0713 - accuracy: 0.9891 - val_loss: 0.0578 - val_accuracy: 0.9854\n",
      "Epoch 16/50\n",
      "26/26 - 12s - loss: 0.0736 - accuracy: 0.9818 - val_loss: 0.0567 - val_accuracy: 0.9902\n",
      "Restoring model weights from the end of the best epoch.\n",
      "Epoch 00016: early stopping\n"
     ]
    },
    {
     "data": {
      "text/plain": [
       "<tensorflow.python.keras.callbacks.History at 0x2a3866cc6a0>"
      ]
     },
     "execution_count": 16,
     "metadata": {},
     "output_type": "execute_result"
    }
   ],
   "source": [
    "model = build_model(dense_units=256)\n",
    "model.compile(\n",
    "    optimizer='sgd',\n",
    "    loss='sparse_categorical_crossentropy', \n",
    "    metrics=['accuracy'])\n",
    "  \n",
    "model.fit(train_batches, \n",
    "          epochs=50, \n",
    "          validation_data=validation_batches, \n",
    "          verbose=2,\n",
    "          callbacks=[EarlyStopping(\n",
    "              patience=3,\n",
    "              min_delta=0.05,\n",
    "              baseline=0.8,\n",
    "              mode='min',\n",
    "              monitor='val_loss',\n",
    "              restore_best_weights=True,\n",
    "              verbose=1)\n",
    "          ])"
   ]
  },
  {
   "cell_type": "code",
   "execution_count": 17,
   "metadata": {},
   "outputs": [
    {
     "name": "stdout",
     "output_type": "stream",
     "text": [
      "Epoch 1/5\n",
      "26/26 [==============================] - 13s 473ms/step - loss: 0.6902 - accuracy: 0.5275 - val_loss: 0.7403 - val_accuracy: 0.4341\n",
      "Epoch 2/5\n",
      "26/26 [==============================] - 12s 449ms/step - loss: 0.6630 - accuracy: 0.5935 - val_loss: 0.6488 - val_accuracy: 0.6049\n",
      "Epoch 3/5\n",
      "26/26 [==============================] - 12s 452ms/step - loss: 0.6309 - accuracy: 0.6768 - val_loss: 0.6449 - val_accuracy: 0.5171\n",
      "Epoch 4/5\n",
      "26/26 [==============================] - 12s 450ms/step - loss: 0.5807 - accuracy: 0.7530 - val_loss: 0.5309 - val_accuracy: 0.8488\n",
      "Epoch 5/5\n",
      "26/26 [==============================] - 12s 465ms/step - loss: 0.5372 - accuracy: 0.7735 - val_loss: 0.5207 - val_accuracy: 0.7268\n"
     ]
    },
    {
     "data": {
      "text/plain": [
       "<tensorflow.python.keras.callbacks.History at 0x2a3867d7eb8>"
      ]
     },
     "execution_count": 17,
     "metadata": {},
     "output_type": "execute_result"
    }
   ],
   "source": [
    "model = build_model(dense_units=256)\n",
    "model.compile(\n",
    "    optimizer='sgd',\n",
    "    loss='sparse_categorical_crossentropy', \n",
    "    metrics=['accuracy'])\n",
    "  \n",
    "csv_file = 'training.csv'\n",
    "\n",
    "model.fit(train_batches, \n",
    "          epochs=5, \n",
    "          validation_data=validation_batches, \n",
    "          callbacks=[CSVLogger(csv_file)\n",
    "          ])"
   ]
  },
  {
   "cell_type": "code",
   "execution_count": 18,
   "metadata": {},
   "outputs": [
    {
     "data": {
      "text/html": [
       "<div>\n",
       "<style scoped>\n",
       "    .dataframe tbody tr th:only-of-type {\n",
       "        vertical-align: middle;\n",
       "    }\n",
       "\n",
       "    .dataframe tbody tr th {\n",
       "        vertical-align: top;\n",
       "    }\n",
       "\n",
       "    .dataframe thead th {\n",
       "        text-align: right;\n",
       "    }\n",
       "</style>\n",
       "<table border=\"1\" class=\"dataframe\">\n",
       "  <thead>\n",
       "    <tr style=\"text-align: right;\">\n",
       "      <th></th>\n",
       "      <th>epoch</th>\n",
       "      <th>accuracy</th>\n",
       "      <th>loss</th>\n",
       "      <th>val_accuracy</th>\n",
       "      <th>val_loss</th>\n",
       "    </tr>\n",
       "  </thead>\n",
       "  <tbody>\n",
       "    <tr>\n",
       "      <th>0</th>\n",
       "      <td>0</td>\n",
       "      <td>0.542579</td>\n",
       "      <td>0.679912</td>\n",
       "      <td>0.434146</td>\n",
       "      <td>0.740302</td>\n",
       "    </tr>\n",
       "    <tr>\n",
       "      <th>1</th>\n",
       "      <td>1</td>\n",
       "      <td>0.630170</td>\n",
       "      <td>0.655083</td>\n",
       "      <td>0.604878</td>\n",
       "      <td>0.648838</td>\n",
       "    </tr>\n",
       "    <tr>\n",
       "      <th>2</th>\n",
       "      <td>2</td>\n",
       "      <td>0.693431</td>\n",
       "      <td>0.624134</td>\n",
       "      <td>0.517073</td>\n",
       "      <td>0.644863</td>\n",
       "    </tr>\n",
       "    <tr>\n",
       "      <th>3</th>\n",
       "      <td>3</td>\n",
       "      <td>0.784672</td>\n",
       "      <td>0.566057</td>\n",
       "      <td>0.848781</td>\n",
       "      <td>0.530865</td>\n",
       "    </tr>\n",
       "    <tr>\n",
       "      <th>4</th>\n",
       "      <td>4</td>\n",
       "      <td>0.778589</td>\n",
       "      <td>0.519325</td>\n",
       "      <td>0.726829</td>\n",
       "      <td>0.520663</td>\n",
       "    </tr>\n",
       "  </tbody>\n",
       "</table>\n",
       "</div>"
      ],
      "text/plain": [
       "   epoch  accuracy      loss  val_accuracy  val_loss\n",
       "0      0  0.542579  0.679912      0.434146  0.740302\n",
       "1      1  0.630170  0.655083      0.604878  0.648838\n",
       "2      2  0.693431  0.624134      0.517073  0.644863\n",
       "3      3  0.784672  0.566057      0.848781  0.530865\n",
       "4      4  0.778589  0.519325      0.726829  0.520663"
      ]
     },
     "execution_count": 18,
     "metadata": {},
     "output_type": "execute_result"
    }
   ],
   "source": [
    "pd.read_csv(csv_file).head()"
   ]
  },
  {
   "cell_type": "code",
   "execution_count": 19,
   "metadata": {},
   "outputs": [
    {
     "name": "stdout",
     "output_type": "stream",
     "text": [
      "Epoch 1/5\n",
      "\n",
      "Epoch 00001: LearningRateScheduler reducing learning rate to 0.005.\n",
      "26/26 [==============================] - 16s 603ms/step - loss: 0.6863 - accuracy: 0.4975 - val_loss: 0.6859 - val_accuracy: 0.4390\n",
      "Epoch 2/5\n",
      "\n",
      "Epoch 00002: LearningRateScheduler reducing learning rate to 0.0025.\n",
      "26/26 [==============================] - 12s 453ms/step - loss: 0.6583 - accuracy: 0.5535 - val_loss: 0.6695 - val_accuracy: 0.4732\n",
      "Epoch 3/5\n",
      "\n",
      "Epoch 00003: LearningRateScheduler reducing learning rate to 0.00125.\n",
      "26/26 [==============================] - 12s 450ms/step - loss: 0.6548 - accuracy: 0.5939 - val_loss: 0.6660 - val_accuracy: 0.4878\n",
      "Epoch 4/5\n",
      "\n",
      "Epoch 00004: LearningRateScheduler reducing learning rate to 0.000625.\n",
      "26/26 [==============================] - 12s 469ms/step - loss: 0.6409 - accuracy: 0.6038 - val_loss: 0.6592 - val_accuracy: 0.5415\n",
      "Epoch 5/5\n",
      "\n",
      "Epoch 00005: LearningRateScheduler reducing learning rate to 0.0003125.\n",
      "26/26 [==============================] - 12s 460ms/step - loss: 0.6436 - accuracy: 0.6359 - val_loss: 0.6573 - val_accuracy: 0.5415\n"
     ]
    },
    {
     "data": {
      "text/plain": [
       "<tensorflow.python.keras.callbacks.History at 0x2a3869353c8>"
      ]
     },
     "execution_count": 19,
     "metadata": {},
     "output_type": "execute_result"
    }
   ],
   "source": [
    "model = build_model(dense_units=256)\n",
    "model.compile(\n",
    "    optimizer='sgd',\n",
    "    loss='sparse_categorical_crossentropy', \n",
    "    metrics=['accuracy'])\n",
    "  \n",
    "def step_decay(epoch):\n",
    "\tinitial_lr = 0.01\n",
    "\tdrop = 0.5\n",
    "\tepochs_drop = 1\n",
    "\tlr = initial_lr * math.pow(drop, math.floor((1+epoch)/epochs_drop))\n",
    "\treturn lr\n",
    "\n",
    "model.fit(train_batches, \n",
    "          epochs=5, \n",
    "          validation_data=validation_batches, \n",
    "          callbacks=[LearningRateScheduler(step_decay, verbose=1),\n",
    "                    TensorBoard(log_dir='./log_dir')])"
   ]
  },
  {
   "cell_type": "code",
   "execution_count": 20,
   "metadata": {},
   "outputs": [
    {
     "data": {
      "text/plain": [
       "ERROR: Failed to launch TensorBoard (exited with 1).\n",
       "Contents of stderr:\n",
       "2021-04-12 19:11:01.506100: W tensorflow/stream_executor/platform/default/dso_loader.cc:60] Could not load dynamic library 'cudart64_110.dll'; dlerror: cudart64_110.dll not found\n",
       "2021-04-12 19:11:01.508363: I tensorflow/stream_executor/cuda/cudart_stub.cc:29] Ignore above cudart dlerror if you do not have a GPU set up on your machine.\n",
       "2021-04-12 19:11:01.574926: W .\\tensorflow/core/platform/env.h:647] Using modular file system for 'gs. Please switch to tensorflow-io (https://github.com/tensorflow/io) for file system support of 'gs'.\n",
       "2021-04-12 19:11:01.577470: W .\\tensorflow/core/platform/env.h:647] Using modular file system for 's3. Please switch to tensorflow-io (https://github.com/tensorflow/io) for file system support of 's3'.\n",
       "Traceback (most recent call last):\n",
       "  File \"c:\\users\\gaya3selva\\anaconda3\\lib\\runpy.py\", line 193, in _run_module_as_main\n",
       "    \"__main__\", mod_spec)\n",
       "  File \"c:\\users\\gaya3selva\\anaconda3\\lib\\runpy.py\", line 85, in _run_code\n",
       "    exec(code, run_globals)\n",
       "  File \"C:\\Users\\Gaya3selva\\Anaconda3\\Scripts\\tensorboard.exe\\__main__.py\", line 7, in <module>\n",
       "  File \"C:\\Users\\Gaya3selva\\AppData\\Roaming\\Python\\Python37\\site-packages\\tensorboard\\main.py\", line 46, in run_main\n",
       "    app.run(tensorboard.main, flags_parser=tensorboard.configure)\n",
       "  File \"c:\\users\\gaya3selva\\anaconda3\\lib\\site-packages\\absl\\app.py\", line 303, in run\n",
       "    _run_main(main, args)\n",
       "  File \"c:\\users\\gaya3selva\\anaconda3\\lib\\site-packages\\absl\\app.py\", line 251, in _run_main\n",
       "    sys.exit(main(argv))\n",
       "  File \"C:\\Users\\Gaya3selva\\AppData\\Roaming\\Python\\Python37\\site-packages\\tensorboard\\program.py\", line 276, in main\n",
       "    return runner(self.flags) or 0\n",
       "  File \"C:\\Users\\Gaya3selva\\AppData\\Roaming\\Python\\Python37\\site-packages\\tensorboard\\program.py\", line 292, in _run_serve_subcommand\n",
       "    server = self._make_server()\n",
       "  File \"C:\\Users\\Gaya3selva\\AppData\\Roaming\\Python\\Python37\\site-packages\\tensorboard\\program.py\", line 472, in _make_server\n",
       "    deprecated_multiplexer,\n",
       "  File \"C:\\Users\\Gaya3selva\\AppData\\Roaming\\Python\\Python37\\site-packages\\tensorboard\\backend\\application.py\", line 145, in TensorBoardWSGIApp\n",
       "    experimental_middlewares,\n",
       "  File \"C:\\Users\\Gaya3selva\\AppData\\Roaming\\Python\\Python37\\site-packages\\tensorboard\\backend\\application.py\", line 253, in __init__\n",
       "    \"Duplicate plugins for name %s\" % plugin.plugin_name\n",
       "ValueError: Duplicate plugins for name projector"
      ]
     },
     "metadata": {},
     "output_type": "display_data"
    }
   ],
   "source": [
    "%tensorboard --logdir log_dir"
   ]
  },
  {
   "cell_type": "code",
   "execution_count": 21,
   "metadata": {},
   "outputs": [
    {
     "name": "stdout",
     "output_type": "stream",
     "text": [
      "Epoch 1/50\n",
      "26/26 [==============================] - 15s 544ms/step - loss: 0.6882 - accuracy: 0.5103 - val_loss: 0.6333 - val_accuracy: 0.6049\n",
      "Epoch 2/50\n",
      "26/26 [==============================] - 12s 469ms/step - loss: 0.6201 - accuracy: 0.6964 - val_loss: 0.5533 - val_accuracy: 0.8439\n",
      "Epoch 3/50\n",
      "26/26 [==============================] - 12s 456ms/step - loss: 0.5462 - accuracy: 0.7826 - val_loss: 0.4832 - val_accuracy: 0.8537\n",
      "Epoch 4/50\n",
      "26/26 [==============================] - 12s 469ms/step - loss: 0.4906 - accuracy: 0.7816 - val_loss: 0.3983 - val_accuracy: 0.8732\n",
      "Epoch 5/50\n",
      "26/26 [==============================] - 12s 471ms/step - loss: 0.4422 - accuracy: 0.7989 - val_loss: 0.3166 - val_accuracy: 0.9024\n",
      "Epoch 6/50\n",
      "26/26 [==============================] - 12s 471ms/step - loss: 0.3186 - accuracy: 0.9000 - val_loss: 0.3056 - val_accuracy: 0.8829\n",
      "Epoch 7/50\n",
      "26/26 [==============================] - 12s 477ms/step - loss: 0.2730 - accuracy: 0.9158 - val_loss: 0.1988 - val_accuracy: 0.9659\n",
      "Epoch 8/50\n",
      "26/26 [==============================] - 12s 453ms/step - loss: 0.2031 - accuracy: 0.9583 - val_loss: 0.1591 - val_accuracy: 0.9561\n",
      "Epoch 9/50\n",
      "26/26 [==============================] - 13s 498ms/step - loss: 0.1573 - accuracy: 0.9665 - val_loss: 0.1166 - val_accuracy: 0.9805\n",
      "Epoch 10/50\n",
      "26/26 [==============================] - 13s 481ms/step - loss: 0.1514 - accuracy: 0.9607 - val_loss: 0.1014 - val_accuracy: 0.9854\n",
      "Epoch 11/50\n",
      "26/26 [==============================] - 12s 475ms/step - loss: 0.1057 - accuracy: 0.9847 - val_loss: 0.0847 - val_accuracy: 0.9902\n",
      "Epoch 12/50\n",
      "26/26 [==============================] - 13s 499ms/step - loss: 0.0890 - accuracy: 0.9865 - val_loss: 0.0750 - val_accuracy: 0.9854\n",
      "Epoch 13/50\n",
      "26/26 [==============================] - 12s 475ms/step - loss: 0.0718 - accuracy: 0.9834 - val_loss: 0.0586 - val_accuracy: 0.9902\n",
      "Epoch 14/50\n",
      "26/26 [==============================] - 13s 482ms/step - loss: 0.0701 - accuracy: 0.9917 - val_loss: 0.0568 - val_accuracy: 0.9902\n",
      "Epoch 15/50\n",
      "26/26 [==============================] - 13s 485ms/step - loss: 0.0565 - accuracy: 0.9908 - val_loss: 0.0749 - val_accuracy: 0.9805\n",
      "\n",
      "Epoch 00015: ReduceLROnPlateau reducing learning rate to 0.0019999999552965165.\n",
      "Epoch 16/50\n",
      "26/26 [==============================] - 14s 519ms/step - loss: 0.0517 - accuracy: 0.9860 - val_loss: 0.0479 - val_accuracy: 0.9854\n",
      "Epoch 17/50\n",
      "26/26 [==============================] - 13s 502ms/step - loss: 0.0460 - accuracy: 0.9909 - val_loss: 0.0462 - val_accuracy: 0.9854\n",
      "Epoch 18/50\n",
      "26/26 [==============================] - 14s 523ms/step - loss: 0.0428 - accuracy: 0.9929 - val_loss: 0.0467 - val_accuracy: 0.9854\n",
      "\n",
      "Epoch 00018: ReduceLROnPlateau reducing learning rate to 0.001.\n",
      "Epoch 19/50\n",
      "26/26 [==============================] - 14s 534ms/step - loss: 0.0407 - accuracy: 0.9933 - val_loss: 0.0447 - val_accuracy: 0.9854\n",
      "Epoch 20/50\n",
      "26/26 [==============================] - 14s 534ms/step - loss: 0.0411 - accuracy: 0.9914 - val_loss: 0.0447 - val_accuracy: 0.9854\n",
      "Epoch 21/50\n",
      "26/26 [==============================] - 14s 533ms/step - loss: 0.0419 - accuracy: 0.9926 - val_loss: 0.0438 - val_accuracy: 0.9854\n",
      "Epoch 22/50\n",
      "26/26 [==============================] - 17s 661ms/step - loss: 0.0385 - accuracy: 0.9927 - val_loss: 0.0441 - val_accuracy: 0.9854\n",
      "Epoch 23/50\n",
      "26/26 [==============================] - 14s 551ms/step - loss: 0.0413 - accuracy: 0.9932 - val_loss: 0.0436 - val_accuracy: 0.9854\n",
      "Epoch 24/50\n",
      "26/26 [==============================] - 14s 526ms/step - loss: 0.0400 - accuracy: 0.9930 - val_loss: 0.0437 - val_accuracy: 0.9854\n",
      "Epoch 25/50\n",
      "26/26 [==============================] - 16s 613ms/step - loss: 0.0382 - accuracy: 0.9916 - val_loss: 0.0426 - val_accuracy: 0.9854\n",
      "Epoch 26/50\n",
      "26/26 [==============================] - 14s 527ms/step - loss: 0.0384 - accuracy: 0.9918 - val_loss: 0.0426 - val_accuracy: 0.9854\n",
      "Epoch 27/50\n",
      "26/26 [==============================] - 13s 503ms/step - loss: 0.0403 - accuracy: 0.9899 - val_loss: 0.0418 - val_accuracy: 0.9854\n",
      "Epoch 28/50\n",
      "26/26 [==============================] - 13s 500ms/step - loss: 0.0383 - accuracy: 0.9917 - val_loss: 0.0417 - val_accuracy: 0.9854\n",
      "Epoch 29/50\n",
      "26/26 [==============================] - 14s 528ms/step - loss: 0.0398 - accuracy: 0.9908 - val_loss: 0.0419 - val_accuracy: 0.9854\n",
      "Epoch 30/50\n",
      "26/26 [==============================] - 13s 508ms/step - loss: 0.0391 - accuracy: 0.9894 - val_loss: 0.0410 - val_accuracy: 0.9854\n",
      "Epoch 31/50\n",
      "26/26 [==============================] - 13s 497ms/step - loss: 0.0396 - accuracy: 0.9910 - val_loss: 0.0412 - val_accuracy: 0.9854\n",
      "Epoch 32/50\n",
      "26/26 [==============================] - 13s 491ms/step - loss: 0.0341 - accuracy: 0.9928 - val_loss: 0.0401 - val_accuracy: 0.9854\n",
      "Epoch 33/50\n",
      "26/26 [==============================] - 13s 496ms/step - loss: 0.0319 - accuracy: 0.9948 - val_loss: 0.0403 - val_accuracy: 0.9854\n",
      "Epoch 34/50\n",
      "26/26 [==============================] - 13s 511ms/step - loss: 0.0317 - accuracy: 0.9944 - val_loss: 0.0403 - val_accuracy: 0.9854\n",
      "Epoch 35/50\n",
      "26/26 [==============================] - 13s 479ms/step - loss: 0.0340 - accuracy: 0.9942 - val_loss: 0.0397 - val_accuracy: 0.9854\n",
      "Epoch 36/50\n",
      "26/26 [==============================] - 13s 510ms/step - loss: 0.0360 - accuracy: 0.9924 - val_loss: 0.0398 - val_accuracy: 0.9854\n",
      "Epoch 37/50\n",
      "26/26 [==============================] - 14s 517ms/step - loss: 0.0372 - accuracy: 0.9911 - val_loss: 0.0388 - val_accuracy: 0.9854\n",
      "Epoch 38/50\n",
      "26/26 [==============================] - 15s 566ms/step - loss: 0.0316 - accuracy: 0.9943 - val_loss: 0.0381 - val_accuracy: 0.9854\n",
      "Epoch 39/50\n",
      "26/26 [==============================] - 14s 535ms/step - loss: 0.0370 - accuracy: 0.9909 - val_loss: 0.0385 - val_accuracy: 0.9854\n",
      "Epoch 40/50\n",
      "26/26 [==============================] - 13s 505ms/step - loss: 0.0321 - accuracy: 0.9919 - val_loss: 0.0383 - val_accuracy: 0.9854\n",
      "Epoch 41/50\n",
      "26/26 [==============================] - 13s 489ms/step - loss: 0.0298 - accuracy: 0.9937 - val_loss: 0.0378 - val_accuracy: 0.9854\n",
      "Epoch 42/50\n",
      "26/26 [==============================] - 13s 520ms/step - loss: 0.0351 - accuracy: 0.9907 - val_loss: 0.0370 - val_accuracy: 0.9854\n",
      "Epoch 43/50\n",
      "26/26 [==============================] - 16s 610ms/step - loss: 0.0394 - accuracy: 0.9897 - val_loss: 0.0365 - val_accuracy: 0.9854\n",
      "Epoch 44/50\n",
      "26/26 [==============================] - 13s 496ms/step - loss: 0.0317 - accuracy: 0.9915 - val_loss: 0.0372 - val_accuracy: 0.9902\n",
      "Epoch 45/50\n",
      "26/26 [==============================] - 12s 456ms/step - loss: 0.0303 - accuracy: 0.9940 - val_loss: 0.0362 - val_accuracy: 0.9902\n",
      "Epoch 46/50\n",
      "26/26 [==============================] - 11s 441ms/step - loss: 0.0283 - accuracy: 0.9942 - val_loss: 0.0364 - val_accuracy: 0.9902\n",
      "Epoch 47/50\n",
      "26/26 [==============================] - 12s 463ms/step - loss: 0.0302 - accuracy: 0.9931 - val_loss: 0.0358 - val_accuracy: 0.9902\n",
      "Epoch 48/50\n",
      "26/26 [==============================] - 13s 497ms/step - loss: 0.0372 - accuracy: 0.9899 - val_loss: 0.0363 - val_accuracy: 0.9902\n",
      "Epoch 49/50\n",
      "26/26 [==============================] - 13s 499ms/step - loss: 0.0363 - accuracy: 0.9871 - val_loss: 0.0348 - val_accuracy: 0.9902\n",
      "Epoch 50/50\n",
      "26/26 [==============================] - 13s 514ms/step - loss: 0.0263 - accuracy: 0.9944 - val_loss: 0.0357 - val_accuracy: 0.9902\n"
     ]
    },
    {
     "data": {
      "text/plain": [
       "<tensorflow.python.keras.callbacks.History at 0x2a386a704e0>"
      ]
     },
     "execution_count": 21,
     "metadata": {},
     "output_type": "execute_result"
    }
   ],
   "source": [
    "model = build_model(dense_units=256)\n",
    "model.compile(\n",
    "    optimizer='sgd',\n",
    "    loss='sparse_categorical_crossentropy', \n",
    "    metrics=['accuracy'])\n",
    "  \n",
    "model.fit(train_batches, \n",
    "          epochs=50, \n",
    "          validation_data=validation_batches, \n",
    "          callbacks=[ReduceLROnPlateau(monitor='val_loss', \n",
    "                                       factor=0.2, verbose=1,\n",
    "                                       patience=1, min_lr=0.001),\n",
    "                     TensorBoard(log_dir='./log_dir')])"
   ]
  },
  {
   "cell_type": "code",
   "execution_count": null,
   "metadata": {},
   "outputs": [],
   "source": [
    "%tensorboard --logdir log_dir"
   ]
  }
 ],
 "metadata": {
  "kernelspec": {
   "display_name": "Python 3",
   "language": "python",
   "name": "python3"
  },
  "language_info": {
   "codemirror_mode": {
    "name": "ipython",
    "version": 3
   },
   "file_extension": ".py",
   "mimetype": "text/x-python",
   "name": "python",
   "nbconvert_exporter": "python",
   "pygments_lexer": "ipython3",
   "version": "3.7.3"
  },
  "varInspector": {
   "cols": {
    "lenName": 16,
    "lenType": 16,
    "lenVar": 40
   },
   "kernels_config": {
    "python": {
     "delete_cmd_postfix": "",
     "delete_cmd_prefix": "del ",
     "library": "var_list.py",
     "varRefreshCmd": "print(var_dic_list())"
    },
    "r": {
     "delete_cmd_postfix": ") ",
     "delete_cmd_prefix": "rm(",
     "library": "var_list.r",
     "varRefreshCmd": "cat(var_dic_list()) "
    }
   },
   "types_to_exclude": [
    "module",
    "function",
    "builtin_function_or_method",
    "instance",
    "_Feature"
   ],
   "window_display": false
  }
 },
 "nbformat": 4,
 "nbformat_minor": 4
}
